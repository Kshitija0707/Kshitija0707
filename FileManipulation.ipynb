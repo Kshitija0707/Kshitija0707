{
  "nbformat": 4,
  "nbformat_minor": 0,
  "metadata": {
    "colab": {
      "provenance": [],
      "authorship_tag": "ABX9TyOaS72r531JCnmWowEFnf+w",
      "include_colab_link": true
    },
    "kernelspec": {
      "name": "python3",
      "display_name": "Python 3"
    },
    "language_info": {
      "name": "python"
    }
  },
  "cells": [
    {
      "cell_type": "markdown",
      "metadata": {
        "id": "view-in-github",
        "colab_type": "text"
      },
      "source": [
        "<a href=\"https://colab.research.google.com/github/Kshitija0707/Kshitija0707/blob/main/FileManipulation.ipynb\" target=\"_parent\"><img src=\"https://colab.research.google.com/assets/colab-badge.svg\" alt=\"Open In Colab\"/></a>"
      ]
    },
    {
      "cell_type": "code",
      "execution_count": null,
      "metadata": {
        "colab": {
          "base_uri": "https://localhost:8080/"
        },
        "id": "jsmu6m5W2NYs",
        "outputId": "41513648-831c-4fc9-b021-c8b01de9ad7b"
      },
      "outputs": [
        {
          "output_type": "stream",
          "name": "stdout",
          "text": [
            "Enter the name of the text file: project\n",
            "File not found. Please make sure the file exists.\n"
          ]
        }
      ],
      "source": [
        "def count_word_occurrences(filename):\n",
        "    word_counts = {}\n",
        "\n",
        "    # Open the file and count word occurrences\n",
        "    with open(filename, 'r') as file:\n",
        "        for line in file:\n",
        "            words = line.split()\n",
        "            for word in words:\n",
        "                # Remove punctuation and convert to lowercase to ensure proper counting\n",
        "                word = word.strip('.,!?\\'\"').lower()\n",
        "                if word:\n",
        "                    word_counts[word] = word_counts.get(word, 0) + 1\n",
        "\n",
        "    return word_counts\n",
        "\n",
        "def display_word_counts(word_counts):\n",
        "    # Sort the word counts alphabetically by keys\n",
        "    sorted_word_counts = sorted(word_counts.items())\n",
        "\n",
        "    # Display the results\n",
        "    for word, count in sorted_word_counts:\n",
        "        print(f\"{word}: {count}\")\n",
        "\n",
        "def main():\n",
        "    filename = input(\"Enter the name of the text file: \")\n",
        "\n",
        "    try:\n",
        "        word_counts = count_word_occurrences(filename)\n",
        "        display_word_counts(word_counts)\n",
        "    except FileNotFoundError:\n",
        "        print(\"File not found. Please make sure the file exists.\")\n",
        "\n",
        "if __name__ == \"__main__\":\n",
        "    main()\n"
      ]
    }
  ]
}