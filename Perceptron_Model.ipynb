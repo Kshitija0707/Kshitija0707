{
  "nbformat": 4,
  "nbformat_minor": 0,
  "metadata": {
    "colab": {
      "provenance": [],
      "authorship_tag": "ABX9TyN7TuxDWQ7eD5rIXnvj9rn1",
      "include_colab_link": true
    },
    "kernelspec": {
      "name": "python3",
      "display_name": "Python 3"
    },
    "language_info": {
      "name": "python"
    }
  },
  "cells": [
    {
      "cell_type": "markdown",
      "metadata": {
        "id": "view-in-github",
        "colab_type": "text"
      },
      "source": [
        "<a href=\"https://colab.research.google.com/github/Kshitija0707/Kshitija0707/blob/main/Perceptron_Model.ipynb\" target=\"_parent\"><img src=\"https://colab.research.google.com/assets/colab-badge.svg\" alt=\"Open In Colab\"/></a>"
      ]
    },
    {
      "cell_type": "code",
      "execution_count": 28,
      "metadata": {
        "id": "33-ecUtEMVFu"
      },
      "outputs": [],
      "source": [
        "import numpy as np"
      ]
    },
    {
      "cell_type": "code",
      "source": [
        "import pandas as pd"
      ],
      "metadata": {
        "id": "DRt35bxfMaTZ"
      },
      "execution_count": 29,
      "outputs": []
    },
    {
      "cell_type": "code",
      "source": [
        "import array as arr"
      ],
      "metadata": {
        "id": "DqW3i5GyMaWg"
      },
      "execution_count": 30,
      "outputs": []
    },
    {
      "cell_type": "code",
      "source": [
        "x=np.array([0.05,0.1])\n",
        "w=np.array([0.15,0.2])\n",
        "b=0.35\n",
        "lw=0.01\n",
        "expected=0.3\n",
        "print(x)\n",
        "print(w)\n",
        "y=x*w\n",
        "print(y)\n",
        "sum=np.sum(y)\n",
        "summation= sum + b\n",
        "print(summation)\n",
        "if summation >= expected:\n",
        "  print(\"Output is fired by activation function\")\n",
        "else:\n",
        "    wl = w+lw*(expected-summation)*x\n",
        "    print(wl)"
      ],
      "metadata": {
        "colab": {
          "base_uri": "https://localhost:8080/"
        },
        "id": "c1aoOqB1MacG",
        "outputId": "b13c62dc-7141-4afa-8b1e-9028082129e8"
      },
      "execution_count": 32,
      "outputs": [
        {
          "output_type": "stream",
          "name": "stdout",
          "text": [
            "[0.05 0.1 ]\n",
            "[0.15 0.2 ]\n",
            "[0.0075 0.02  ]\n",
            "0.3775\n",
            "Output is fired by activation function\n"
          ]
        }
      ]
    }
  ]
}