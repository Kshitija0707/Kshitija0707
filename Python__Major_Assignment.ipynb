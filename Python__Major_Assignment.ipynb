{
  "nbformat": 4,
  "nbformat_minor": 0,
  "metadata": {
    "colab": {
      "provenance": [],
      "include_colab_link": true
    },
    "kernelspec": {
      "name": "python3",
      "display_name": "Python 3"
    },
    "language_info": {
      "name": "python"
    }
  },
  "cells": [
    {
      "cell_type": "markdown",
      "metadata": {
        "id": "view-in-github",
        "colab_type": "text"
      },
      "source": [
        "<a href=\"https://colab.research.google.com/github/Kshitija0707/Kshitija0707/blob/main/Python__Major_Assignment.ipynb\" target=\"_parent\"><img src=\"https://colab.research.google.com/assets/colab-badge.svg\" alt=\"Open In Colab\"/></a>"
      ]
    },
    {
      "cell_type": "markdown",
      "source": [
        "# Q1) Find the datatype of these two declarations.\n",
        "\n",
        "x = 5\n",
        "\n",
        "y = \"John\""
      ],
      "metadata": {
        "id": "D6dtMev0kEAz"
      }
    },
    {
      "cell_type": "markdown",
      "source": [],
      "metadata": {
        "id": "bKcVAiLn_PSR"
      }
    },
    {
      "cell_type": "code",
      "execution_count": null,
      "metadata": {
        "colab": {
          "base_uri": "https://localhost:8080/"
        },
        "id": "rj6RGXOVjzZ0",
        "outputId": "50119b9d-dbe1-4637-8d8a-3dae2adeb487"
      },
      "outputs": [
        {
          "output_type": "stream",
          "name": "stdout",
          "text": [
            "The Data type of variable x of data 5 is <class 'int'>\n",
            "The Data type of variable y of data John is <class 'str'>\n"
          ]
        }
      ],
      "source": [
        "x = 5\n",
        "y = \"John\"\n",
        "\n",
        "print(f\"The Data type of variable x of data {x} is {type(x)}\")\n",
        "print(f\"The Data type of variable y of data {y} is {type(y)}\")"
      ]
    },
    {
      "cell_type": "markdown",
      "source": [
        "# Q2) Check the validity of variable names\n",
        "\n",
        "**Example of valid syntax:**\n",
        "```python\n",
        "abc = 100  # Valid variable name\n",
        "```\n",
        "\n",
        "**Check the validity of the following variable names:**\n",
        "\n",
        "1. `3a = 10`  # Invalid (starts with a digit)\n",
        "2. `@abc = 10`  # Invalid (starts with a special character)\n",
        "3. `a100 = 100`  # Valid\n",
        "4. `_a984_ = 100`  # Valid (can start with an underscore)\n",
        "5. `a9967$ = 100`  # Invalid (contains a special character other than underscore)\n",
        "6. `xyz-2 = 100`  # Invalid (contains a hyphen)\n",
        "\n",
        "**Rules for valid variable names in Python:**\n",
        "\n",
        "- Must start with a letter (a-z or A-Z) or an underscore (_).\n",
        "- Can contain letters, digits, and underscores.\n",
        "- Are case-sensitive (e.g., `abc` and `ABC` are different variables).\n",
        "- Cannot be reserved keywords (e.g., `if`, `else`, `for`, `while`).\n",
        "\n"
      ],
      "metadata": {
        "id": "a5MLZykXk2m8"
      }
    },
    {
      "cell_type": "code",
      "source": [
        "valid_var = {\"a100\": 100, \"_a984_\": 100,}  # These are valid variables\n",
        "invalid_var = {\"3a\": 10, \"@abc\": 10, \"a9967$\": 100, \"xyz-2\": 100}  # These are non valid variables\n",
        "\n",
        "for key, value in valid_var.items():\n",
        "  print(f\"The variable {key} is valid and its value is {value}\")\n",
        "\n",
        "print('\\n')\n",
        "\n",
        "for key, value in invalid_var.items():\n",
        "  print(f\"The variable {key} is invalid and its value is {value}\")"
      ],
      "metadata": {
        "id": "_UCbHG_4nsmk",
        "colab": {
          "base_uri": "https://localhost:8080/"
        },
        "outputId": "7d5486e3-7860-4154-910c-00bc2f9e59a6"
      },
      "execution_count": null,
      "outputs": [
        {
          "output_type": "stream",
          "name": "stdout",
          "text": [
            "The variable a100 is valid and its value is 100\n",
            "The variable _a984_ is valid and its value is 100\n",
            "\n",
            "\n",
            "The variable 3a is invalid and its value is 10\n",
            "The variable @abc is invalid and its value is 10\n",
            "The variable a9967$ is invalid and its value is 100\n",
            "The variable xyz-2 is invalid and its value is 100\n"
          ]
        }
      ]
    },
    {
      "cell_type": "code",
      "source": [],
      "metadata": {
        "id": "5r7iBaSys3T5"
      },
      "execution_count": null,
      "outputs": []
    },
    {
      "cell_type": "markdown",
      "source": [
        "# Q3) Checking for Element Existence in a List\n",
        "\n",
        "**Example List:**\n",
        "\n",
        "```python\n",
        "test_list = [1, 6, 3, 5, 3, 4]\n",
        "```\n",
        "1) Check if 3 exist or not.\n",
        "\n",
        "2) Check if 9 exists or not."
      ],
      "metadata": {
        "id": "jNsSlYlNa0eN"
      }
    },
    {
      "cell_type": "code",
      "source": [
        "test_list = [1, 6, 3, 5, 3, 4]\n",
        "\n",
        "if 3 in test_list:\n",
        "  print(\"The value 3 is present in this list\")\n",
        "else:\n",
        "  print(\"The values 3 and 9 are not present in this list\")\n",
        "\n",
        "if 9 in test_list:\n",
        "  print(\"The value 3 is present in this list\")\n",
        "else:\n",
        "  print(\"The value 9 is not present in this list\")"
      ],
      "metadata": {
        "colab": {
          "base_uri": "https://localhost:8080/"
        },
        "id": "HRSOvJllbYyV",
        "outputId": "396dce70-fdbf-4810-95e1-af35a20753d0"
      },
      "execution_count": null,
      "outputs": [
        {
          "output_type": "stream",
          "name": "stdout",
          "text": [
            "The value 3 is present in this list\n",
            "The value 9 is not present in this list\n"
          ]
        }
      ]
    },
    {
      "cell_type": "code",
      "source": [
        "test_list = [1, 6, 3, 5, 3, 4]\n",
        "\n",
        "first_value = eval(input(\"Enter First value to find: \"))\n",
        "second_value = eval(input(\"Enter Second value to find: \"))\n",
        "\n",
        "if first_value in test_list:\n",
        "  print(f\"Your first value {first_value} is present in this list\")\n",
        "else:\n",
        "  print(f\"Your first value {first_value} is not present in this list\")\n",
        "\n",
        "if second_value in test_list:\n",
        "  print(f\"Your second value {second_value} is present in this list\")\n",
        "else:\n",
        "  print(f\"Your second value {second_value} is not present in this list\")"
      ],
      "metadata": {
        "colab": {
          "base_uri": "https://localhost:8080/"
        },
        "id": "wkwjGRiSctiv",
        "outputId": "6a709194-484a-40a8-e182-0526abd78b34"
      },
      "execution_count": null,
      "outputs": [
        {
          "output_type": "stream",
          "name": "stdout",
          "text": [
            "Enter First value to find: 3\n",
            "Enter Second value to find: 8\n",
            "Your first value 3 is present in this list\n",
            "Your second value 8 is not present in this list\n"
          ]
        }
      ]
    },
    {
      "cell_type": "markdown",
      "source": [
        "# Q4) Take the user input to print the current date?"
      ],
      "metadata": {
        "id": "wE5uEdCOa0XB"
      }
    },
    {
      "cell_type": "code",
      "source": [
        "import datetime\n",
        "\n",
        "# Get user input\n",
        "user_input = input(\"Enter a date in YYYY-MM-DD format (e.g., 2024-01-02): \")\n",
        "\n",
        "# Validate input format\n",
        "try:\n",
        "    year, month, day = map(int, user_input.split(\"-\"))\n",
        "    date_obj = datetime.date(year, month, day)\n",
        "except ValueError:\n",
        "    print(\"Invalid date format. Please enter in YYYY-MM-DD format.\")\n",
        "    exit()  # Exit the program if invalid input\n",
        "\n",
        "# Print the date in different formats\n",
        "print(f\"Today's date in YYYY-MM-DD format: {date_obj.isoformat()}\")\n",
        "print(f\"Today's date in DD/MM/YYYY format: {date_obj.strftime('%d/%m/%Y')}\")\n",
        "print(f\"Today's date in full format: {date_obj.strftime('%A, %d %B %Y')}\")\n"
      ],
      "metadata": {
        "colab": {
          "base_uri": "https://localhost:8080/"
        },
        "id": "gtOPn7W-sI1m",
        "outputId": "ef7f0088-f7c4-4a31-d066-3d8b0540ecca"
      },
      "execution_count": null,
      "outputs": [
        {
          "output_type": "stream",
          "name": "stdout",
          "text": [
            "Enter a date in YYYY-MM-DD format (e.g., 2024-01-02): 2024-05-01\n",
            "Today's date in YYYY-MM-DD format: 2024-05-01\n",
            "Today's date in DD/MM/YYYY format: 01/05/2024\n",
            "Today's date in full format: Wednesday, 01 May 2024\n"
          ]
        }
      ]
    },
    {
      "cell_type": "markdown",
      "source": [
        "# Q5) What is the output of the following code?\n",
        "\n",
        "a) print 9//2\n",
        "\n",
        "b) print 9%2"
      ],
      "metadata": {
        "id": "HFb6qtXJ06hG"
      }
    },
    {
      "cell_type": "code",
      "source": [
        "Exp1 = 9 // 2\n",
        "Exp2 = 9 % 2\n",
        "print(f\"The result of first expression is {Exp1} and second expression {Exp2}\")"
      ],
      "metadata": {
        "colab": {
          "base_uri": "https://localhost:8080/"
        },
        "id": "7zh8dtxh0-jl",
        "outputId": "bb35b87d-35cc-4ff1-a729-1ff6a75aaa57"
      },
      "execution_count": null,
      "outputs": [
        {
          "output_type": "stream",
          "name": "stdout",
          "text": [
            "The result of first expression is 4 and second expression 1\n"
          ]
        }
      ]
    },
    {
      "cell_type": "markdown",
      "source": [
        "# Q6) Print the First 10 Natural Numbers using a while loop\n",
        "\n"
      ],
      "metadata": {
        "id": "LIjmCT5T0q9e"
      }
    },
    {
      "cell_type": "code",
      "source": [
        "number = 1\n",
        "\n",
        "while number <= 10:\n",
        "  print(number)\n",
        "  number += 1"
      ],
      "metadata": {
        "id": "o7Pt3rSX12gO",
        "colab": {
          "base_uri": "https://localhost:8080/"
        },
        "outputId": "5a1506bb-9fb3-40b7-bb5e-f5e4c970ed04"
      },
      "execution_count": null,
      "outputs": [
        {
          "output_type": "stream",
          "name": "stdout",
          "text": [
            "1\n",
            "2\n",
            "3\n",
            "4\n",
            "5\n",
            "6\n",
            "7\n",
            "8\n",
            "9\n",
            "10\n"
          ]
        }
      ]
    },
    {
      "cell_type": "markdown",
      "source": [
        "# Q7) Write a program to accept a number from a user and calculate the sum of all numbers from 1 to a given number\n",
        "\n",
        "**Example** = if the user entered 10 the output should be\n",
        "55 (1+2+3+4+5+6+7+8+9+10)"
      ],
      "metadata": {
        "id": "FQHyeLPT2r45"
      }
    },
    {
      "cell_type": "code",
      "source": [
        "def sum_of_numbers(upper_limit):\n",
        "    \"\"\"Calculates the sum of all numbers from 1 to upper_limit.\"\"\"\n",
        "    sum = 0  # Initialize the sum to 0\n",
        "    for number in range(1, upper_limit + 1):  # Iterate from 1 to upper_limit (inclusive)\n",
        "        sum += number  # Add each number to the sum\n",
        "    return sum  # Return the calculated sum\n",
        "\n",
        "# Get user input\n",
        "user_input = int(input(\"Enter a number: \"))\n",
        "\n",
        "# Calculate and print the sum\n",
        "total_sum = sum_of_numbers(user_input)\n",
        "print(\"The sum of all numbers from 1 to\", user_input, \"is\", total_sum)\n"
      ],
      "metadata": {
        "colab": {
          "base_uri": "https://localhost:8080/"
        },
        "id": "bi8YGJCJ2siI",
        "outputId": "93bd54c2-1d13-4932-825b-369502ca3071"
      },
      "execution_count": null,
      "outputs": [
        {
          "output_type": "stream",
          "name": "stdout",
          "text": [
            "Enter a number: 89\n",
            "The sum of all numbers from 1 to 89 is 4005\n"
          ]
        }
      ]
    },
    {
      "cell_type": "code",
      "source": [
        "def sum_of_all(Upper_limit):\n",
        "  \"\"\"It will calculate the sum of all the numbers from 1 to your upper_limit\"\"\"\n",
        "  add = 0\n",
        "  for num in range(1, round(Upper_limit) + 1):\n",
        "    add += num\n",
        "  return add\n",
        "\n",
        "Value = eval(input(\"Enter a number: \"))\n",
        "sum = sum_of_all(Value)\n",
        "\n",
        "print(f\"The sum of all Numbers from 1 to {Value} is {sum}\")"
      ],
      "metadata": {
        "colab": {
          "base_uri": "https://localhost:8080/"
        },
        "id": "cC2_PX-K3Voy",
        "outputId": "8428244e-3484-442b-bda3-b0618453bb49"
      },
      "execution_count": null,
      "outputs": [
        {
          "output_type": "stream",
          "name": "stdout",
          "text": [
            "Enter a number: 21\n",
            "The sum of all Numbers from 1 to 21 is 231\n"
          ]
        }
      ]
    },
    {
      "cell_type": "markdown",
      "source": [
        "# Q8) Write a Python program that iterates the integers from 1 to 50. Formultiples of three print \"Fizz\" instead of the number and for multiples of five print \"Buzz\". For numbers that are multiples of both three and five print \"FizzBuzz\"?\n"
      ],
      "metadata": {
        "id": "DT2fYM1M6V-P"
      }
    },
    {
      "cell_type": "code",
      "source": [
        "for num in range(1,51):\n",
        "  if num % 3 == 0 and num % 5 == 0:\n",
        "    print(\"FizzBuzz\")\n",
        "  elif num % 3 == 0:\n",
        "    print(\"Fizz\")\n",
        "  elif num % 5 == 0:\n",
        "    print(\"Buzz\")\n",
        "  else:\n",
        "    print(num)"
      ],
      "metadata": {
        "id": "dy3LdRa36ZWO",
        "colab": {
          "base_uri": "https://localhost:8080/"
        },
        "outputId": "9bd16b2f-3a05-49e3-909f-97d93b41de7e"
      },
      "execution_count": null,
      "outputs": [
        {
          "output_type": "stream",
          "name": "stdout",
          "text": [
            "1\n",
            "2\n",
            "Fizz\n",
            "4\n",
            "Buzz\n",
            "Fizz\n",
            "7\n",
            "8\n",
            "Fizz\n",
            "Buzz\n",
            "11\n",
            "Fizz\n",
            "13\n",
            "14\n",
            "FizzBuzz\n",
            "16\n",
            "17\n",
            "Fizz\n",
            "19\n",
            "Buzz\n",
            "Fizz\n",
            "22\n",
            "23\n",
            "Fizz\n",
            "Buzz\n",
            "26\n",
            "Fizz\n",
            "28\n",
            "29\n",
            "FizzBuzz\n",
            "31\n",
            "32\n",
            "Fizz\n",
            "34\n",
            "Buzz\n",
            "Fizz\n",
            "37\n",
            "38\n",
            "Fizz\n",
            "Buzz\n",
            "41\n",
            "Fizz\n",
            "43\n",
            "44\n",
            "FizzBuzz\n",
            "46\n",
            "47\n",
            "Fizz\n",
            "49\n",
            "Buzz\n"
          ]
        }
      ]
    },
    {
      "cell_type": "code",
      "source": [],
      "metadata": {
        "id": "9sYNj3ubH5bb"
      },
      "execution_count": null,
      "outputs": []
    }
  ]
}