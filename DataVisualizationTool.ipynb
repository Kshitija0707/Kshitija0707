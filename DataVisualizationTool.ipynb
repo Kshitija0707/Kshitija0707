{
  "nbformat": 4,
  "nbformat_minor": 0,
  "metadata": {
    "colab": {
      "provenance": [],
      "authorship_tag": "ABX9TyMLGhGgCt/1cu3WMYFcHbPQ",
      "include_colab_link": true
    },
    "kernelspec": {
      "name": "python3",
      "display_name": "Python 3"
    },
    "language_info": {
      "name": "python"
    }
  },
  "cells": [
    {
      "cell_type": "markdown",
      "metadata": {
        "id": "view-in-github",
        "colab_type": "text"
      },
      "source": [
        "<a href=\"https://colab.research.google.com/github/Kshitija0707/Kshitija0707/blob/main/DataVisualizationTool.ipynb\" target=\"_parent\"><img src=\"https://colab.research.google.com/assets/colab-badge.svg\" alt=\"Open In Colab\"/></a>"
      ]
    },
    {
      "cell_type": "code",
      "source": [
        "import pandas as pd\n",
        "import plotly.express as px\n",
        "\n",
        "def generate_interactive_visualizations(data_file):\n",
        "    try:\n",
        "        df = pd.read_csv(data_file)\n",
        "    except FileNotFoundError:\n",
        "        print(f\"Error: File '{data_file}' not found.\")\n",
        "        return\n",
        "    except pd.errors.EmptyDataError:\n",
        "        print(f\"Error: File '{data_file}' is empty.\")\n",
        "        return\n",
        "\n",
        "    # Check if required columns exist\n",
        "    required_columns = ['price', 'sqft_living', 'waterfront', 'zipcode']\n",
        "    for column in required_columns:\n",
        "        if column not in df.columns:\n",
        "            print(f\"Error: Column '{column}' not found in the dataset.\")\n",
        "            return\n",
        "\n",
        "    # Generate interactive visualizations using Plotly\n",
        "    fig = px.scatter(df, x='price', y='sqft_living', color='waterfront', hover_data=['zipcode'])\n",
        "    fig.show()\n",
        "\n",
        "def main():\n",
        "    # Specify path to the dataset\n",
        "    data_file = \"C:/Users/ACT/Downloads/RealEstateData.csv\"\n",
        "\n",
        "    generate_interactive_visualizations(data_file)\n",
        "\n",
        "if __name__ == \"__main__\":\n",
        "    main()\n"
      ],
      "metadata": {
        "colab": {
          "base_uri": "https://localhost:8080/"
        },
        "id": "LQ00vO7Y_WRV",
        "outputId": "9e2c5e56-f044-4da4-9ed4-ea918e5e23f6"
      },
      "execution_count": 1,
      "outputs": [
        {
          "output_type": "stream",
          "name": "stdout",
          "text": [
            "Error: File 'C:/Users/ACT/Downloads/RealEstateData.csv' not found.\n"
          ]
        }
      ]
    }
  ]
}